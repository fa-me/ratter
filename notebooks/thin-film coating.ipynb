{
 "cells": [
  {
   "cell_type": "code",
   "execution_count": null,
   "metadata": {},
   "outputs": [],
   "source": [
    "import sympy as sp\n",
    "import numpy as np\n",
    "import matplotlib.pyplot as plt\n",
    "\n",
    "from ratter import *"
   ]
  },
  {
   "cell_type": "code",
   "execution_count": null,
   "metadata": {},
   "outputs": [],
   "source": [
    "wavelength = 600 # length units: nm\n",
    "\n",
    "Si = Material('Si', refractive_index_value=3.9400+0.019934j)  # Green 2008\n",
    "air = Material('air', refractive_index_value=1.00027698) # Ciddor 1996\n",
    "SiO2 = Material('SiO2', refractive_index_value=1.4580) # Malitson 1965: Fused silica\n",
    "AlOx = Material('Al2O3', refractive_index_value=1.7675) # Malitson and Dodge 1972: α-Al2O3 (Sapphire)"
   ]
  },
  {
   "cell_type": "code",
   "execution_count": null,
   "metadata": {},
   "outputs": [],
   "source": [
    "environment = Layer('env', air)\n",
    "coating1 = Layer('coat1', SiO2)\n",
    "coating2 = Layer('coat2', AlOx)\n",
    "bulk = Layer('bulk', Si)"
   ]
  },
  {
   "cell_type": "code",
   "execution_count": null,
   "metadata": {},
   "outputs": [],
   "source": [
    "stack = Layerstack([environment, coating1, coating2, bulk])"
   ]
  },
  {
   "cell_type": "code",
   "execution_count": null,
   "metadata": {},
   "outputs": [],
   "source": [
    "r = stack.reflectance_amplitude()"
   ]
  },
  {
   "cell_type": "code",
   "execution_count": null,
   "metadata": {},
   "outputs": [],
   "source": [
    "R = sp.conjugate(r)*r"
   ]
  },
  {
   "cell_type": "code",
   "execution_count": null,
   "metadata": {},
   "outputs": [],
   "source": [
    "R_ = R.subs(LAMBDA_VAC, wavelength)\n",
    "R_of_coating_thickness = as_function_of(R_, [coating1.thickness_symbol, coating2.thickness_symbol])"
   ]
  },
  {
   "cell_type": "code",
   "execution_count": null,
   "metadata": {},
   "outputs": [],
   "source": [
    "d1 = np.arange(0,500)\n",
    "\n",
    "for d2 in [50,200,500]:\n",
    "    plt.plot(d1, np.real(R_of_coating_thickness(d1, d2)), label='{}'.format(d2))\n",
    "plt.legend(title='$Al_2O_3$ thickness (nm)')\n",
    "plt.ylabel('reflectivity')\n",
    "plt.xlabel('$SiO_2$ thickness (nm)')"
   ]
  }
 ],
 "metadata": {
  "kernelspec": {
   "display_name": "sci",
   "language": "python",
   "name": "sci"
  },
  "language_info": {
   "codemirror_mode": {
    "name": "ipython",
    "version": 3
   },
   "file_extension": ".py",
   "mimetype": "text/x-python",
   "name": "python",
   "nbconvert_exporter": "python",
   "pygments_lexer": "ipython3",
   "version": "3.7.6"
  }
 },
 "nbformat": 4,
 "nbformat_minor": 4
}
